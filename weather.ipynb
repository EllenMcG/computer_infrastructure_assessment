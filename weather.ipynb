{
 "cells": [
  {
   "cell_type": "markdown",
   "metadata": {},
   "source": [
    "# Tasks Workbook"
   ]
  },
  {
   "cell_type": "markdown",
   "metadata": {},
   "source": [
    "## Task 1"
   ]
  },
  {
   "cell_type": "markdown",
   "metadata": {},
   "source": [
    "For Task 1 several commands need to be used to both create files and directories. These include\n",
    "- pwd (present working directory) - this command is used to locate the location of the current directory\n",
    "- ls - this command is used to see the contents of the directory (both directories and files)\n",
    "\n",
    "```ls``` \n",
    "\n",
    "```data/  README.md  weather.ipynb```\n",
    "\n",
    "\n",
    "- cd (change directory command) - this command is used to change to a directory by specificying the name after the command as below\n",
    "\n",
    "```cd compuer_infrastructure_assessment```\n",
    "\n",
    "- mkdir (make diractory) - this command is used to create a directory when specifieid with the name of the new directory \n",
    "\n",
    "```mkdir data```\n",
    "\n",
    "- touch - this command is used to create a new file in the current directory and specifying its name and file extension (.py for python)\n",
    "\n",
    "```touch weather.ipynb```\n",
    "\n",
    "If a folder was created within the wrong directory then the rm command can be used. This can be paired with -rf to suppress the confirmation messages that a file was deleted. \n",
    "\n",
    "These commands have come from a Linux [page](https://www.redhat.com/sysadmin/create-delete-files-directories-linux), but more of the options to suppress messages when deleting files came from a Stackoverflow [page](https://stackoverflow.com/questions/2642147/how-to-remove-files-and-directories-quickly-via-terminal-bash-shell)"
   ]
  },
  {
   "cell_type": "markdown",
   "metadata": {},
   "source": [
    "## Task 2"
   ]
  }
 ],
 "metadata": {
  "kernelspec": {
   "display_name": "base",
   "language": "python",
   "name": "python3"
  },
  "language_info": {
   "codemirror_mode": {
    "name": "ipython",
    "version": 3
   },
   "file_extension": ".py",
   "mimetype": "text/x-python",
   "name": "python",
   "nbconvert_exporter": "python",
   "pygments_lexer": "ipython3",
   "version": "3.11.9"
  }
 },
 "nbformat": 4,
 "nbformat_minor": 2
}

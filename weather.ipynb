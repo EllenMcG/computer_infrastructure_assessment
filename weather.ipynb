{
 "cells": [
  {
   "cell_type": "markdown",
   "metadata": {},
   "source": [
    "# Tasks Workbook"
   ]
  },
  {
   "cell_type": "markdown",
   "metadata": {},
   "source": [
    "## Task One"
   ]
  },
  {
   "cell_type": "markdown",
   "metadata": {},
   "source": [
    "For Task 1 several commands need to be used to both create files and directories using CMDER. These include\n",
    "- pwd (present working directory) - this command is used to locate the location of the current directory\n",
    "- ls - this command is used to see the contents of the directory (both directories and files)\n",
    "\n",
    "```ls``` \n",
    "\n",
    "```data/  README.md  weather.ipynb```\n",
    "\n",
    "\n",
    "- cd (change directory command) - this command is used to change to a directory by specificying the name after the command as below\n",
    "\n",
    "```cd compuer_infrastructure_assessment```\n",
    "\n",
    "- mkdir (make diractory) - this command is used to create a directory when specifieid with the name of the new directory \n",
    "\n",
    "```mkdir data```\n",
    "\n",
    "- touch - this command is used to create a new file in the current directory and specifying its name and file extension (.py for python). If using Visual Studio Code terminal, then the touch command can be replace by using *code*. \n",
    "\n",
    "```touch weather.ipynb```\n",
    "\n",
    "```code weather.ipynb # VS Code```\n",
    "\n",
    "If a folder was created within the wrong directory then the rm command can be used. This can be paired with -rf to suppress the confirmation messages that a file was deleted. \n",
    "\n",
    "These commands have come from a Linux [page](https://www.redhat.com/sysadmin/create-delete-files-directories-linux), but more of the options to suppress messages when deleting files came from a Stackoverflow [page](https://stackoverflow.com/questions/2642147/how-to-remove-files-and-directories-quickly-via-terminal-bash-shell)"
   ]
  },
  {
   "cell_type": "markdown",
   "metadata": {},
   "source": [
    "## Task Two\n",
    "\n",
    "For Task two, *VS Code* was used to create a file then append the current timestamp (no timezone) using the **date** command and append operator (>>). If the single > was used, then the previous content of the file will be overwritten. The format for the date command was found online [here](https://www.geeksforgeeks.org/date-command-linux-examples/).\n",
    "\n",
    "The file was first created \n",
    "\n",
    "```code now.txt``` \n",
    "\n",
    "Then the date was added with this command being used 10 times. In this case, the date format was not specified (but timezone is UTC)\n",
    "\n",
    "```date >> now.txt``` \n",
    "\n",
    "Finally, the file *now.txt* as checked using the **more** command, but **nano** could of being used. The format of the first two instances of *date >> now.txt* is shown below\n",
    "\n",
    "```more now.txt```\\\n",
    "\\\n",
    "```Monday 21 October 2024 20:51:07```\\\n",
    "\\\n",
    "\\\n",
    "\\\n",
    "```Monday 21 October 2024 20:51:18```\n",
    "\n"
   ]
  },
  {
   "cell_type": "markdown",
   "metadata": {},
   "source": [
    "## Task Three\n",
    "\n",
    "For Task three, work was moved to *Github Codespaces* as somme of the Linux commands were not working well on a Windows machine.  Firstly a file was created and the date was added to in a specificed format (*YYYYmmdd_HHMMSS*) and compluted using format commands from **date** [here](https://www.geeksforgeeks.org/date-command-linux-examples/).\n",
    "\n",
    "The file was first created \n",
    "\n",
    "```touch formatted.txt``` \n",
    "\n",
    "Then the date was appended to the file in the specific format and checked using **more**. \n",
    "\n",
    "```date +\"%Y%m%d_%H%M%S\" >> formatted.txt``` \n",
    "\n",
    "```more now.txt```\\\n",
    "\\\n",
    "```20241021_201952```\n"
   ]
  },
  {
   "cell_type": "markdown",
   "metadata": {},
   "source": [
    "## Task Four\n",
    "\n",
    "For task four, an empty .txt file is created using the below commands. The backticks (`) are used to include the date command with the predetermined format with a textfile extension used. When more is used on this file no content is shown as it is an empty textfile. \n",
    "\n",
    "```touch `date +\"%Y%m%d_%H%M%S.txt\"```` \n",
    "\n",
    "```more 20241021_203321.txt``` "
   ]
  },
  {
   "cell_type": "markdown",
   "metadata": {},
   "source": [
    "## Task Five"
   ]
  }
 ],
 "metadata": {
  "kernelspec": {
   "display_name": "base",
   "language": "python",
   "name": "python3"
  },
  "language_info": {
   "codemirror_mode": {
    "name": "ipython",
    "version": 3
   },
   "file_extension": ".py",
   "mimetype": "text/x-python",
   "name": "python",
   "nbconvert_exporter": "python",
   "pygments_lexer": "ipython3",
   "version": "3.11.9"
  }
 },
 "nbformat": 4,
 "nbformat_minor": 2
}
